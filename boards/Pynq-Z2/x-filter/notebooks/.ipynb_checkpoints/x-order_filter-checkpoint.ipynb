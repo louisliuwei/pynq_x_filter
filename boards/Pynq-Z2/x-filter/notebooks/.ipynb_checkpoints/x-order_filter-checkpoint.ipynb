{
 "cells": [
  {
   "cell_type": "markdown",
   "metadata": {},
   "source": [
    "# x-filter Overlay - Demostration Notebook\n",
    "\n",
    "通过HLS高层次综合工具，可以很方便的通过C/C++语言将算法综合为可在Vivado中直接例化的硬件IP，利用FPGA并行计算的优势，帮助我们实现算法加速，提高系统响应速度。在本示例中通过HLS工具实现了一个阶数与系数均可实时修改的FIR滤波器IP。\n",
    "\n",
    "x-filter Overlay实现了对该滤波器的系统集成，Block Design如下图所示，ARM处理器可通过AXI总线和DMA访问该IP。\n",
    "<img src=\"./images/x-order_filter.PNG\"/>\n",
    "*注：Overlay可以理解为具体的FPGA比特流 + 相应的Python API驱动*\n",
    "\n",
    "而在PYNQ框架下，通过Python API我们可以很方便的对Overlay中的IP进行调用。而基于Python的生态，导入数据分析库如numpy和图形库matplotlib，通过简单的几行代码即可对FIR滤波器进行分析和验证。在本notebook中我们展示了通过numpy库产生的多个频率的叠加信号作为FIR滤波器的输入，并对经过FIR滤波器滤波前后的信号在时域和频频进行了分析。\n",
    "\n",
    "下表为HLS工具自动为IP产生的驱动头文件，在notebook中需要对照该头文件来对IP进行调用。"
   ]
  },
  {
   "cell_type": "code",
   "execution_count": 1,
   "metadata": {},
   "outputs": [],
   "source": [
    "# ==============================================================\n",
    "# File generated on Mon Oct 07 01:59:23 +0800 2019\n",
    "# Vivado(TM) HLS - High-Level Synthesis from C, C++ and SystemC v2018.3 (64-bit)\n",
    "# SW Build 2405991 on Thu Dec  6 23:38:27 MST 2018\n",
    "# IP Build 2404404 on Fri Dec  7 01:43:56 MST 2018\n",
    "# Copyright 1986-2018 Xilinx, Inc. All Rights Reserved.\n",
    "# ==============================================================\n",
    "# AXILiteS\n",
    "# 0x00 : Control signals\n",
    "#        bit 0  - ap_start (Read/Write/COH)\n",
    "#        bit 1  - ap_done (Read/COR)\n",
    "#        bit 2  - ap_idle (Read)\n",
    "#        bit 3  - ap_ready (Read)\n",
    "#        bit 7  - auto_restart (Read/Write)\n",
    "#        others - reserved\n",
    "# 0x04 : Global Interrupt Enable Register\n",
    "#        bit 0  - Global Interrupt Enable (Read/Write)\n",
    "#        others - reserved\n",
    "# 0x08 : IP Interrupt Enable Register (Read/Write)\n",
    "#        bit 0  - Channel 0 (ap_done)\n",
    "#        bit 1  - Channel 1 (ap_ready)\n",
    "#        others - reserved\n",
    "# 0x0c : IP Interrupt Status Register (Read/TOW)\n",
    "#        bit 0  - Channel 0 (ap_done)\n",
    "#        bit 1  - Channel 1 (ap_ready)\n",
    "#        others - reserved\n",
    "# 0x10 : Data signal of coe\n",
    "#        bit 31~0 - coe[31:0] (Read/Write)\n",
    "# 0x14 : reserved\n",
    "# 0x18 : Data signal of ctrl\n",
    "#        bit 31~0 - ctrl[31:0] (Read/Write)\n",
    "# 0x1c : reserved\n",
    "# (SC = Self Clear, COR = Clear on Read, TOW = Toggle on Write, COH = Clear on Handshake)"
   ]
  },
  {
   "cell_type": "markdown",
   "metadata": {},
   "source": [
    "为了帮助我们在notebook上对算法进行验证，我们通过matlab工具设计了2个滤波器，预设信号频率分量最高为750Hz，根据采样定理知采样频率要大于信号频率2倍，在设计的2个滤波器中，均设置扫描频率为1800Hz。\n",
    "\n",
    "下图为在matlab中设计的的FIR低通滤波器幅频曲线，示例中设计了1个截至频率为500Hz的10阶FIR低通滤波器。\n",
    "<img src=\"./images/MagnitudeResponse.PNG\" width=\"70%\" height=\"70%\"/>\n",
    "导出系数：[107,280,-1193,-1212,9334,18136,9334,-1212,-1193,280,107]\n",
    "\n",
    "修改滤波器设置，重新设计1个截至频率为500Hz的15阶FIR高通滤波器.\n",
    "<img src=\"./images/MagnitudeResponse_500Hz_HP.png\" width=\"70%\" height=\"70%\"/>\n",
    "导出系数：[-97,-66,435,0,-1730,1101,5506,-13305,13305,-5506,-1101,1730,0,-435,66,97]"
   ]
  },
  {
   "cell_type": "markdown",
   "metadata": {},
   "source": [
    "# 步骤1 - 导入Python库，实例化用于控制FIR滤波器的DMA设备。\n",
    "### 注：我们可以通过“Shift + Enter”组合键来逐一执行notebook中每一个cell内的python脚本。cell左边的\"*\"号表示脚本正在执行，执行完毕后会变为数字。"
   ]
  },
  {
   "cell_type": "code",
   "execution_count": 2,
   "metadata": {},
   "outputs": [
    {
     "data": {
      "application/javascript": [
       "\n",
       "require(['notebook/js/codecell'], function(codecell) {\n",
       "  codecell.CodeCell.options_default.highlight_modes[\n",
       "      'magic_text/x-csrc'] = {'reg':[/^%%microblaze/]};\n",
       "  Jupyter.notebook.events.one('kernel_ready.Kernel', function(){\n",
       "      Jupyter.notebook.get_cells().map(function(cell){\n",
       "          if (cell.cell_type == 'code'){ cell.auto_highlight(); } }) ;\n",
       "  });\n",
       "});\n"
      ]
     },
     "metadata": {},
     "output_type": "display_data"
    }
   ],
   "source": [
    "#导入必要的python库\n",
    "import pynq.lib.dma #导入访问FPGA内侧DMA的库\n",
    "import numpy as np #numpy为pyrhon的数值分析库\n",
    "from pynq import Xlnk #Xlnk()可实现连续内存分配，访问FPGA侧的DMA需要该库\n",
    "from scipy.fftpack import fft,ifft #python的FFT库\n",
    "import matplotlib.pyplot as plt #python图表库\n",
    "import scipy as scipy"
   ]
  },
  {
   "cell_type": "code",
   "execution_count": 4,
   "metadata": {},
   "outputs": [],
   "source": [
    "#加载FPGA比特流\n",
    "firn = pynq.Overlay(\"x-order_filter.bit\")"
   ]
  },
  {
   "cell_type": "code",
   "execution_count": 5,
   "metadata": {},
   "outputs": [],
   "source": [
    "#实例化Overlay内的DMA模块\n",
    "dma = firn.axi_dma_0\n",
    "led_4bits = firn.axi_gpio_0\n",
    "rgb_leds = firn.axi_gpio_1\n",
    "btn_4bits = firn.axi_gpio_2\n",
    "fir_filter = firn.x_order_fir_0"
   ]
  },
  {
   "cell_type": "code",
   "execution_count": 6,
   "metadata": {},
   "outputs": [],
   "source": [
    "led_4bits.write(0x04,0x00)\n",
    "led_4bits.write(0x00,0x0A)"
   ]
  },
  {
   "cell_type": "code",
   "execution_count": 7,
   "metadata": {},
   "outputs": [],
   "source": [
    "rgb_leds.write(0x04,0x00)\n",
    "rgb_leds.write(0x00,0x0A)"
   ]
  },
  {
   "cell_type": "code",
   "execution_count": 8,
   "metadata": {},
   "outputs": [],
   "source": [
    "#对Overlay内的DMA进行配置，每次传输1800个数据点。\n",
    "xlnk = Xlnk()\n",
    "in_buffer = xlnk.cma_array(shape=(1800,), dtype=np.int32)\n",
    "out_buffer = xlnk.cma_array(shape=(1800,), dtype=np.int32)\n",
    "#coe_buffer = xlnk.cma_array(shape=(11,), dtype=np.int32)\n",
    "coe_buffer = xlnk.cma_array(shape=(16,), dtype=np.int32)\n",
    "ctrl_buffer = xlnk.cma_array(shape=(2,), dtype=np.int32)"
   ]
  },
  {
   "cell_type": "code",
   "execution_count": 9,
   "metadata": {},
   "outputs": [],
   "source": [
    "#coe = [107,280,-1193,-1212,9334,18136,9334,-1212,-1193,280,107]\n",
    "coe = [-97,-66,435,0,-1730,1101,5506,-13305,13305,-5506,-1101,1730,0,-435,66,97]\n",
    "for i in range (16):\n",
    "    coe_buffer[i] = coe[i]"
   ]
  },
  {
   "cell_type": "code",
   "execution_count": 10,
   "metadata": {},
   "outputs": [],
   "source": [
    "ctrl_buffer[0] = 1\n",
    "#ctrl_buffer[1] = 10\n",
    "ctrl_buffer[1] = 16"
   ]
  },
  {
   "cell_type": "code",
   "execution_count": 11,
   "metadata": {},
   "outputs": [
    {
     "data": {
      "text/plain": [
       "402964480"
      ]
     },
     "execution_count": 11,
     "metadata": {},
     "output_type": "execute_result"
    }
   ],
   "source": [
    "coe_buffer.physical_address"
   ]
  },
  {
   "cell_type": "code",
   "execution_count": 12,
   "metadata": {},
   "outputs": [],
   "source": [
    "# 参数配置 实际使用的MMIO\n",
    "fir_filter.write(0x10,coe_buffer.physical_address)\n",
    "fir_filter.write(0x18,ctrl_buffer.physical_address)"
   ]
  },
  {
   "cell_type": "code",
   "execution_count": 13,
   "metadata": {},
   "outputs": [],
   "source": [
    "fir_filter.write(0x00,0x81)"
   ]
  },
  {
   "cell_type": "markdown",
   "metadata": {},
   "source": [
    "# 步骤2 - 叠加多个不同频率和幅值的信号，作为滤波器的输入信号。"
   ]
  },
  {
   "cell_type": "code",
   "execution_count": 14,
   "metadata": {},
   "outputs": [],
   "source": [
    "#采样频率为1800Hz，即1秒内有1800个采样点，我们将采样点个数选择1800个。\n",
    "x=np.linspace(0,1,1800)"
   ]
  },
  {
   "cell_type": "code",
   "execution_count": 15,
   "metadata": {},
   "outputs": [
    {
     "data": {
      "text/plain": [
       "Text(0.5,1,'input signal')"
      ]
     },
     "execution_count": 15,
     "metadata": {},
     "output_type": "execute_result"
    },
    {
     "data": {
      "image/png": "[encoded data removed]",
      "text/plain": [
       "<matplotlib.figure.Figure at 0xaec70730>"
      ]
     },
     "metadata": {},
     "output_type": "display_data"
    }
   ],
   "source": [
    "#产生滤波器输入信号\n",
    "f1 = 600 #设置第1个信号分量频率设置为600Hz\n",
    "a1 = 100 #设置第1个信号分量幅值设置为100\n",
    "f2 = 450 #设置第2个信号分量频率设置为450Hz\n",
    "a2 = 100 #设置第2个信号分量幅值设置为100\n",
    "f3 = 200 #设置第3个信号分量频率设置为200Hz\n",
    "a3 = 100 #设置第3个信号分量幅值设置为100\n",
    "f4 = 650 #设置第4个信号分量频率设置为650Hz\n",
    "a4 = 100 #设置第5个信号分量幅值设置为100\n",
    "\n",
    "#产生4个不同频率分量的叠加信号，将其作为滤波器的输入信号，我们还可以叠加更多信号。\n",
    "#y=np.int32(a1*np.sin(2*np.pi*f1*x) + a2*np.sin(2*np.pi*f2*x)) \n",
    "y=np.int32(a1*np.sin(2*np.pi*f1*x) + a2*np.sin(2*np.pi*f2*x) + a3*np.sin(2*np.pi*f3*x) + a4*np.sin(2*np.pi*f4*x)) \n",
    "\n",
    "#绘制滤波器输入信号波形图\n",
    "fig1 = plt.figure()\n",
    "ax1 = fig1.gca()\n",
    "plt.plot(y[0:50]) #为便于观察，这里仅显示前50个点的波形，如需要显示更多的点，请将50改为其它数值\n",
    "plt.title('input signal',fontsize=10,color='b')"
   ]
  },
  {
   "cell_type": "code",
   "execution_count": 16,
   "metadata": {},
   "outputs": [],
   "source": [
    "#通过DMA将数据发送in_buffer内的数值到FIR滤波器的输入端\n",
    "for i in range(1800):\n",
    "    in_buffer[i] = y[i]\n",
    "dma.sendchannel.transfer(in_buffer)"
   ]
  },
  {
   "cell_type": "code",
   "execution_count": 17,
   "metadata": {},
   "outputs": [],
   "source": [
    "#获取滤波器的输出信号数据存储在out_buffer中\n",
    "dma.recvchannel.transfer(out_buffer)"
   ]
  },
  {
   "cell_type": "code",
   "execution_count": 18,
   "metadata": {},
   "outputs": [
    {
     "data": {
      "text/plain": [
       "Text(0.5,1,'output signal')"
      ]
     },
     "execution_count": 18,
     "metadata": {},
     "output_type": "execute_result"
    },
    {
     "data": {
      "image/png": "[encoded data removed]",
      "text/plain": [
       "<matplotlib.figure.Figure at 0xada93e90>"
      ]
     },
     "metadata": {},
     "output_type": "display_data"
    }
   ],
   "source": [
    "#绘制滤波器输出信号图\n",
    "fig2 = plt.figure()\n",
    "ax2 = fig2.gca()\n",
    "plt.plot(out_buffer[0:50]/32768) #除于32768的原因是滤波器系数为16位有符号定点小数，运算过程中被当作整数计算。\n",
    "plt.title('output signal',fontsize=10,color='b')"
   ]
  },
  {
   "cell_type": "markdown",
   "metadata": {},
   "source": [
    "# 步骤3 - 对滤波器输入和输出信号做频域分析"
   ]
  },
  {
   "cell_type": "code",
   "execution_count": 19,
   "metadata": {},
   "outputs": [],
   "source": [
    "#FFT变换函数体\n",
    "def fft(signal_buffer,points):\n",
    "    yy = scipy.fftpack.fft(signal_buffer)\n",
    "    yreal = yy.real               # 获取实部\n",
    "    yimag = yy.imag               # 获取虚部\n",
    "    yf1 = abs(yy)/((len(points)/2))  #归一化处理\n",
    "    yf2 = yf1[range(int(len(points)/2))]  #由于对称性，只取一半区间\n",
    "    xf1 = np.arange(len(signal_buffer))        # 频率\n",
    "    xf2 = xf1[range(int(len(points)/2))]  #取一半区间\n",
    "    #混合波的FFT（双边频率范围）\n",
    "    #plt.subplot(222)\n",
    "    plt.plot(xf2,yf2,'r') #显示原始信号的FFT模值,本例只显示其中的750个点，如需要显示更多请调整750为其它数值\n",
    "    plt.title('FFT of Mixed wave',fontsize=10,color='r')  #注意这里的颜色可以查询颜色代码\n",
    "    return"
   ]
  },
  {
   "cell_type": "code",
   "execution_count": 20,
   "metadata": {},
   "outputs": [
    {
     "data": {
      "image/png": "[encoded data removed]",
      "text/plain": [
       "<matplotlib.figure.Figure at 0xada83910>"
      ]
     },
     "metadata": {},
     "output_type": "display_data"
    }
   ],
   "source": [
    "#对输入信号做FFT变换\n",
    "fft(in_buffer,x)"
   ]
  },
  {
   "cell_type": "code",
   "execution_count": 21,
   "metadata": {},
   "outputs": [
    {
     "data": {
      "image/png": "[encoded data removed]",
      "text/plain": [
       "<matplotlib.figure.Figure at 0xad984bf0>"
      ]
     },
     "metadata": {},
     "output_type": "display_data"
    }
   ],
   "source": [
    "#对输出信号做FFT变换\n",
    "fft(out_buffer/32768,x)#除于32768的原因是滤波器系数为16位有符号定点小数，运算过程中被当作整数计算。"
   ]
  },
  {
   "cell_type": "code",
   "execution_count": 22,
   "metadata": {},
   "outputs": [],
   "source": [
    "#dma.sendchannel.wait()\n",
    "#dma.recvchannel.wait()"
   ]
  },
  {
   "cell_type": "code",
   "execution_count": 36,
   "metadata": {},
   "outputs": [],
   "source": [
    "in_buffer.close()\n",
    "out_buffer.close()"
   ]
  },
  {
   "cell_type": "code",
   "execution_count": 37,
   "metadata": {},
   "outputs": [],
   "source": [
    "xlnk.xlnk_reset()"
   ]
  },
  {
   "cell_type": "code",
   "execution_count": null,
   "metadata": {},
   "outputs": [],
   "source": []
  }
 ],
 "metadata": {
  "kernelspec": {
   "display_name": "Python 3",
   "language": "python",
   "name": "python3"
  },
  "language_info": {
   "codemirror_mode": {
    "name": "ipython",
    "version": 3
   },
   "file_extension": ".py",
   "mimetype": "text/x-python",
   "name": "python",
   "nbconvert_exporter": "python",
   "pygments_lexer": "ipython3",
   "version": "3.7.1"
  }
 },
 "nbformat": 4,
 "nbformat_minor": 2
}
